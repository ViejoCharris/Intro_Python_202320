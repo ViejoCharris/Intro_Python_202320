{
  "nbformat": 4,
  "nbformat_minor": 0,
  "metadata": {
    "colab": {
      "provenance": [],
      "authorship_tag": "ABX9TyMmNU8mzYMsJFd3U5zMh7kO",
      "include_colab_link": true
    },
    "kernelspec": {
      "name": "python3",
      "display_name": "Python 3"
    },
    "language_info": {
      "name": "python"
    }
  },
  "cells": [
    {
      "cell_type": "markdown",
      "metadata": {
        "id": "view-in-github",
        "colab_type": "text"
      },
      "source": [
        "<a href=\"https://colab.research.google.com/github/charrisgamer/Intro_Python_202320/blob/main/Introduction.ipynb\" target=\"_parent\"><img src=\"https://colab.research.google.com/assets/colab-badge.svg\" alt=\"Open In Colab\"/></a>"
      ]
    },
    {
      "cell_type": "markdown",
      "source": [
        "# Introduccion a Python\n",
        "## Curso de programacion y algorirmia UPB 202320\n",
        "- Nombre: Carlos Gutierrez y Walter Charris\n",
        "- ID: 000502183 - 000483335\n",
        "- Email: carlos.gutierrezg@upb.edu.co - walter.charris@upb.edu.co\n",
        "\n",
        "Esta es la expresio de la linea recta:\n",
        "$$y=mx+b$$\n",
        "Donde $x$ es la posicion, $m$ es la pendiente"
      ],
      "metadata": {
        "id": "D_MYgoSLFzrL"
      }
    },
    {
      "cell_type": "code",
      "source": [],
      "metadata": {
        "id": "aexZLWaiIyTR"
      },
      "execution_count": null,
      "outputs": []
    }
  ]
}