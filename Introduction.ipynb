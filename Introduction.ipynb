{
  "nbformat": 4,
  "nbformat_minor": 0,
  "metadata": {
    "colab": {
      "provenance": [],
      "include_colab_link": true
    },
    "kernelspec": {
      "name": "python3",
      "display_name": "Python 3"
    },
    "language_info": {
      "name": "python"
    }
  },
  "cells": [
    {
      "cell_type": "markdown",
      "metadata": {
        "id": "view-in-github",
        "colab_type": "text"
      },
      "source": [
        "<a href=\"https://colab.research.google.com/github/charrisgamer/Intro_Python_202320/blob/main/Introduction.ipynb\" target=\"_parent\"><img src=\"https://colab.research.google.com/assets/colab-badge.svg\" alt=\"Open In Colab\"/></a>"
      ]
    },
    {
      "cell_type": "markdown",
      "source": [
        "# Introduccion a Python\n",
        "## Curso de programacion y algorirmia UPB 202320\n",
        "- Nombre: Walter Charris\n",
        "- ID: 000483335\n",
        "- Email: walter.charris@upb.edu.co\n",
        "\n",
        "Esta es la expresio de la linea recta:\n",
        "$$y=mx+b$$\n",
        "Donde $x$ es la posicion, $m$ es la pendiente"
      ],
      "metadata": {
        "id": "D_MYgoSLFzrL"
      }
    },
    {
      "cell_type": "code",
      "source": [
        "# Comentarios\n",
        "\n",
        "## Mis primeras lineas de codigo en Python\n",
        "name = 'Walter Charris'\n",
        "print(\"Hello,\", name)"
      ],
      "metadata": {
        "id": "aexZLWaiIyTR",
        "colab": {
          "base_uri": "https://localhost:8080/"
        },
        "outputId": "2ac2549e-dd99-409c-dd64-6a6dc35aa049"
      },
      "execution_count": null,
      "outputs": [
        {
          "output_type": "stream",
          "name": "stdout",
          "text": [
            "Hello, Carlos Charris\n"
          ]
        }
      ]
    },
    {
      "cell_type": "code",
      "source": [
        "# Mi nombre\n",
        "firtsname = \"Walter\"\n",
        "lastname = \"Charris\"\n",
        "age = \"19\"\n",
        "city = \"Monteria\"\n",
        "food = \"Tamales\"\n",
        "\n",
        "## Lineas de codigo\n",
        "print(\"mi nombre es\", firtsname, lastname,\"tengo\", age,\"vivo en\", city, \"y me gustan los\", food)"
      ],
      "metadata": {
        "colab": {
          "base_uri": "https://localhost:8080/"
        },
        "id": "-NJHpPHeTVtf",
        "outputId": "66bfacce-a8d7-47d8-ca91-f70c5cdd9d56"
      },
      "execution_count": null,
      "outputs": [
        {
          "output_type": "stream",
          "name": "stdout",
          "text": [
            "mi nombre es Carlos Charris tengo 19 vivo en Corozal y me gustan los Tamales\n"
          ]
        }
      ]
    },
    {
      "cell_type": "code",
      "source": [
        "a = 20\n",
        "b = 40\n",
        "c = a + b\n",
        "print(c)\n",
        "c = c / a\n",
        "print(int(c))\n",
        "c = (b * c) + 10\n",
        "print(int(c))\n",
        "c /= 2\n",
        "print(int(c))"
      ],
      "metadata": {
        "id": "NQl7WYo1aN-2",
        "outputId": "94255a45-2b6d-4b2b-bf6d-c338cfe3c0cb",
        "colab": {
          "base_uri": "https://localhost:8080/"
        }
      },
      "execution_count": 33,
      "outputs": [
        {
          "output_type": "stream",
          "name": "stdout",
          "text": [
            "60\n",
            "3\n",
            "130\n",
            "65\n"
          ]
        }
      ]
    },
    {
      "cell_type": "code",
      "source": [
        "b=5\n",
        "m=2\n",
        "x=-3\n",
        "y=m*x + b\n",
        "\n",
        "print(x, \"/--/\", y)\n",
        "\n",
        "b=7\n",
        "m=8\n",
        "x=91\n",
        "y=m*x + b\n",
        "\n",
        "print(x, \"/--/\", y)"
      ],
      "metadata": {
        "id": "PDeOiegbbC-0",
        "outputId": "1855c3a8-1fd2-428f-fed3-fd4bd1735031",
        "colab": {
          "base_uri": "https://localhost:8080/"
        }
      },
      "execution_count": 42,
      "outputs": [
        {
          "output_type": "stream",
          "name": "stdout",
          "text": [
            "-3 /--/ -1\n",
            "91 /--/ 735\n"
          ]
        }
      ]
    },
    {
      "cell_type": "code",
      "source": [
        "a=1\n",
        "b=2\n",
        "c=-8\n",
        "\n",
        "f=b**2\n",
        "m=-4*a*c\n",
        "ñ=(f+m)**(1/2)\n",
        "p=2*a\n",
        "\n",
        "x=(-b+ñ)/p\n",
        "z=(-b-ñ)/p\n",
        "\n",
        "print(int(x), \"/--/\", int(z))\n",
        "\n",
        "a=-3\n",
        "b=-1\n",
        "c=10\n",
        "\n",
        "f=b**2\n",
        "m=-4*a*c\n",
        "ñ=(f+m)**(1/2)\n",
        "p=2*a\n",
        "\n",
        "x=(-b+ñ)/p\n",
        "z=(-b-ñ)/p\n",
        "\n",
        "print(int(x), \"/--/\", int(z))\n",
        "\n",
        "a=0.1\n",
        "b=-2\n",
        "c=0.5\n",
        "\n",
        "f=b**2\n",
        "m=-4*a*c\n",
        "ñ=(f+m)**(1/2)\n",
        "p=2*a\n",
        "\n",
        "x=(-b+ñ)/p\n",
        "z=(-b-ñ)/p\n",
        "\n",
        "print(int(x), \"/--/\", int(z))\n"
      ],
      "metadata": {
        "id": "6IdClDfiefs3",
        "outputId": "437c065f-e635-4c06-fd0e-9ce62271dc2f",
        "colab": {
          "base_uri": "https://localhost:8080/"
        }
      },
      "execution_count": 77,
      "outputs": [
        {
          "output_type": "stream",
          "name": "stdout",
          "text": [
            "2 /--/ -4\n",
            "-2 /--/ 1\n",
            "19 /--/ 0\n"
          ]
        }
      ]
    },
    {
      "cell_type": "code",
      "source": [
        "a=4\n",
        "b=4\n",
        "\n",
        "print(a == b)\n",
        "print(a > b)\n",
        "print(a <= b)\n",
        "print(a < b)\n",
        "print(a >= b)\n",
        "print((a==b) and (b+3<5))\n",
        "print((a==b) or (b+3<5))\n",
        "print(not(b+3<5))"
      ],
      "metadata": {
        "id": "pCLtxvibf5as",
        "outputId": "bdcd3cc3-56bd-40ea-85cb-856a389bd78f",
        "colab": {
          "base_uri": "https://localhost:8080/"
        }
      },
      "execution_count": 93,
      "outputs": [
        {
          "output_type": "stream",
          "name": "stdout",
          "text": [
            "True\n",
            "False\n",
            "True\n",
            "False\n",
            "True\n",
            "False\n",
            "True\n",
            "True\n"
          ]
        }
      ]
    },
    {
      "cell_type": "code",
      "source": [],
      "metadata": {
        "id": "Pg6K9AAVmsHH"
      },
      "execution_count": null,
      "outputs": []
    }
  ]
}