{
  "nbformat": 4,
  "nbformat_minor": 0,
  "metadata": {
    "colab": {
      "provenance": [],
      "authorship_tag": "ABX9TyO/7JQtAneomPwUnYVcuj+i",
      "include_colab_link": true
    },
    "kernelspec": {
      "name": "python3",
      "display_name": "Python 3"
    },
    "language_info": {
      "name": "python"
    }
  },
  "cells": [
    {
      "cell_type": "markdown",
      "metadata": {
        "id": "view-in-github",
        "colab_type": "text"
      },
      "source": [
        "<a href=\"https://colab.research.google.com/github/charrisgamer/Intro_Python_202320/blob/main/Introduction.ipynb\" target=\"_parent\"><img src=\"https://colab.research.google.com/assets/colab-badge.svg\" alt=\"Open In Colab\"/></a>"
      ]
    },
    {
      "cell_type": "markdown",
      "source": [
        "# Introduccion a Python\n",
        "## Curso de programacion y algorirmia UPB 202320\n",
        "- Nombre: Carlos Gutierrez y Walter Charris\n",
        "- ID: 000502183 - 000483335\n",
        "- Email: carlos.gutierrezg@upb.edu.co - walter.charris@upb.edu.co\n",
        "\n",
        "Esta es la expresio de la linea recta:\n",
        "$$y=mx+b$$\n",
        "Donde $x$ es la posicion, $m$ es la pendiente"
      ],
      "metadata": {
        "id": "D_MYgoSLFzrL"
      }
    },
    {
      "cell_type": "code",
      "source": [
        "# Comentarios\n",
        "\n",
        "## Mis primeras lineas de codigo en Python\n",
        "name = 'Carlos Charris'\n",
        "print(\"Hello,\", name)"
      ],
      "metadata": {
        "id": "aexZLWaiIyTR",
        "colab": {
          "base_uri": "https://localhost:8080/"
        },
        "outputId": "2ac2549e-dd99-409c-dd64-6a6dc35aa049"
      },
      "execution_count": 8,
      "outputs": [
        {
          "output_type": "stream",
          "name": "stdout",
          "text": [
            "Hello, Carlos Charris\n"
          ]
        }
      ]
    },
    {
      "cell_type": "code",
      "source": [
        "# Mi nombre\n",
        "firtsname = \"Carlos\"\n",
        "lastname = \"Charris\"\n",
        "age = \"19\"\n",
        "city = \"Corozal\"\n",
        "food = \"Tamales\"\n",
        "\n",
        "## Lineas de codigo\n",
        "print(\"mi nombre es\", firtsname, lastname,\"tengo\", age,\"vivo en\", city, \"y me gustan los\", food)"
      ],
      "metadata": {
        "colab": {
          "base_uri": "https://localhost:8080/"
        },
        "id": "-NJHpPHeTVtf",
        "outputId": "66bfacce-a8d7-47d8-ca91-f70c5cdd9d56"
      },
      "execution_count": 19,
      "outputs": [
        {
          "output_type": "stream",
          "name": "stdout",
          "text": [
            "mi nombre es Carlos Charris tengo 19 vivo en Corozal y me gustan los Tamales\n"
          ]
        }
      ]
    },
    {
      "cell_type": "code",
      "source": [],
      "metadata": {
        "id": "IaGASGqzUXay"
      },
      "execution_count": null,
      "outputs": []
    }
  ]
}